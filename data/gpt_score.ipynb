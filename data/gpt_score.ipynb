{
 "cells": [
  {
   "cell_type": "code",
   "execution_count": 21,
   "metadata": {},
   "outputs": [],
   "source": [
    "import pandas as pd\n",
    "import pandas as pd\n",
    "import json\n",
    "import random\n",
    "from retrying import retry\n",
    "import openai\n",
    "from concurrent.futures import ThreadPoolExecutor\n",
    "from tqdm import tqdm\n",
    "\n",
    "openai.api_base = \"https://one.aiskt.com/v1\"\n",
    "\n",
    "\n",
    "class OpenAIGPT:\n",
    "    def __init__(self, model_name=\"gpt-3.5-turbo\", keys_path=None):\n",
    "        self.model_name = model_name\n",
    "        with open(keys_path, encoding=\"utf-8\", mode=\"r\") as fr:\n",
    "            self.keys = [line.strip() for line in fr if len(line.strip()) >= 4]\n",
    "\n",
    "    def __post_process(self, response):\n",
    "        return response[\"choices\"][0][\"message\"][\"content\"]\n",
    "\n",
    "    @retry(wait_fixed=300, stop_max_attempt_number=50)\n",
    "    def __call__(self, message):\n",
    "        if message is None or message == \"\":\n",
    "            return False, \"Your input is empty.\"\n",
    "\n",
    "        # current_key = random.choice(self.keys)\n",
    "        current_key = self.keys[0] if len(self.keys) == 1 else random.choice(self.keys)\n",
    "        openai.api_key = current_key\n",
    "        response = openai.ChatCompletion.create(\n",
    "            model=self.model_name,\n",
    "            messages=[{\"role\": \"user\", \"content\": message}],\n",
    "            temperature=0.3,\n",
    "            top_p=0.1,\n",
    "            frequency_penalty=0.6,\n",
    "            presence_penalty=0.6,\n",
    "            n=1,\n",
    "        )\n",
    "        return self.__post_process(response)\n",
    "\n",
    "\n",
    "igpt = OpenAIGPT(keys_path=\"../apikey.txt\")"
   ]
  },
  {
   "cell_type": "code",
   "execution_count": 22,
   "metadata": {},
   "outputs": [
    {
     "data": {
      "text/plain": [
       "'你好！有什么可以帮助你的吗？'"
      ]
     },
     "execution_count": 22,
     "metadata": {},
     "output_type": "execute_result"
    }
   ],
   "source": [
    "igpt('你好')"
   ]
  },
  {
   "cell_type": "markdown",
   "metadata": {},
   "source": [
    "### generating gpt's answer\n"
   ]
  },
  {
   "cell_type": "code",
   "execution_count": 23,
   "metadata": {},
   "outputs": [],
   "source": [
    "def process_row(row):\n",
    "    try:\n",
    "        instruction = row['prompt']\n",
    "        label = row['expected']\n",
    "\n",
    "        res = igpt(f'{instruction}')\n",
    "\n",
    "        return {\n",
    "            \"label\": label,\n",
    "            \"predict\": res\n",
    "        }\n",
    "    except Exception as e:\n",
    "        print(f\"Error processing row: {e}\")\n",
    "        return None\n",
    "\n",
    "\n",
    "def generate_dataset(data, max_samples=100):\n",
    "    global igpt\n",
    "    igpt = OpenAIGPT(model_name='gpt-3.5-turbo', keys_path='../apikey.txt')\n",
    "    results = []\n",
    "    with ThreadPoolExecutor(max_workers=10) as executor:\n",
    "        futures = [executor.submit(process_row, row) for row in data[:max_samples]]\n",
    "        for future in tqdm(futures, total=len(futures), desc=\"Processing rows\"):\n",
    "            result = future.result()\n",
    "            if result:\n",
    "                results.append(result)\n",
    "\n",
    "    return results"
   ]
  },
  {
   "cell_type": "code",
   "execution_count": 24,
   "metadata": {},
   "outputs": [
    {
     "name": "stderr",
     "output_type": "stream",
     "text": [
      "Processing rows: 100%|██████████| 500/500 [04:04<00:00,  2.05it/s]\n"
     ]
    }
   ],
   "source": [
    "test_data = 'test_dataset/results.json'\n",
    "with open(test_data, 'r') as file:\n",
    "    data = json.load(file)\n",
    "random.shuffle(data)\n",
    "\n",
    "dataset = generate_dataset(data, max_samples=500)"
   ]
  },
  {
   "cell_type": "code",
   "execution_count": 25,
   "metadata": {},
   "outputs": [],
   "source": [
    "output_file_path = 'test_dataset/evaluation_results_gpt.jsonl'\n",
    "with open(output_file_path, 'w', encoding='utf-8') as f:\n",
    "    for item in dataset:\n",
    "        json.dump(item, f, ensure_ascii=False)\n",
    "        f.write('\\n')"
   ]
  },
  {
   "cell_type": "code",
   "execution_count": 26,
   "metadata": {},
   "outputs": [
    {
     "name": "stdout",
     "output_type": "stream",
     "text": [
      "Accuracy: 0.35\n"
     ]
    }
   ],
   "source": [
    "cnt = 0\n",
    "for line in dataset:\n",
    "    if line['label'] in line['predict']:\n",
    "        cnt += 1\n",
    "print(f\"Accuracy: {cnt/len(dataset)}\")"
   ]
  },
  {
   "cell_type": "code",
   "execution_count": null,
   "metadata": {},
   "outputs": [],
   "source": []
  }
 ],
 "metadata": {
  "language_info": {
   "name": "python"
  }
 },
 "nbformat": 4,
 "nbformat_minor": 2
}
