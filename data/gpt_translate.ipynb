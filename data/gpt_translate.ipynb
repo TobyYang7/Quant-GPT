{
 "cells": [
  {
   "cell_type": "code",
   "execution_count": null,
   "metadata": {},
   "outputs": [],
   "source": [
    "from OpenAI_agent import OpenAIGPT\n",
    "import json\n",
    "from concurrent.futures import ThreadPoolExecutor\n",
    "from tqdm import tqdm\n",
    "\n",
    "\n",
    "def process_row(row):\n",
    "    try:\n",
    "        prompt = \"Translate the following text to English: \"\n",
    "        content = igpt(prompt + row['content'])\n",
    "        label_mapping = {0: \"Extremely Negative\", 1: \"Negative\", 2: \"Neutral\", 3: \"Positive\", 4: \"Extremely Positive\"}\n",
    "        label = label_mapping[row['label']]\n",
    "\n",
    "        return {\n",
    "            \"content\": row['content'],\n",
    "            \"translated_content\": content,\n",
    "            \"label\": label\n",
    "        }\n",
    " \n",
    "    except Exception as e:\n",
    "        print(f\"Error processing row: {e}\")\n",
    "        return None\n",
    "\n",
    "\n",
    "def generate_dataset(df, max_samples=10):\n",
    "    global igpt\n",
    "    igpt = OpenAIGPT(model_name='gpt-3.5-turbo', keys_path='../apikey.txt')\n",
    "    df_subset = df.head(max_samples)\n",
    "    results = []\n",
    "    with ThreadPoolExecutor(max_workers=10) as executor:\n",
    "        futures = [executor.submit(process_row, row) for _, row in df_subset.iterrows()]\n",
    "        for future in tqdm(futures, total=len(futures), desc=\"Processing rows\"):\n",
    "            result = future.result()\n",
    "            if result:\n",
    "                results.append(result)\n",
    "\n",
    "    return results"
   ]
  },
  {
   "cell_type": "code",
   "execution_count": null,
   "metadata": {},
   "outputs": [],
   "source": [
    "dataset = generate_dataset(data, max_samples=100)\n",
    "output_file_path = 'translated.json'\n",
    "with open(output_file_path, 'w', encoding='utf-8') as f:\n",
    "    json.dump(dataset, f, ensure_ascii=False, indent=2)"
   ]
  }
 ],
 "metadata": {
  "language_info": {
   "name": "python"
  }
 },
 "nbformat": 4,
 "nbformat_minor": 2
}
