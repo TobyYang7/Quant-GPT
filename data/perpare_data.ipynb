{
 "cells": [
  {
   "cell_type": "code",
   "execution_count": 10,
   "metadata": {},
   "outputs": [
    {
     "data": {
      "text/html": [
       "<div>\n",
       "<style scoped>\n",
       "    .dataframe tbody tr th:only-of-type {\n",
       "        vertical-align: middle;\n",
       "    }\n",
       "\n",
       "    .dataframe tbody tr th {\n",
       "        vertical-align: top;\n",
       "    }\n",
       "\n",
       "    .dataframe thead th {\n",
       "        text-align: right;\n",
       "    }\n",
       "</style>\n",
       "<table border=\"1\" class=\"dataframe\">\n",
       "  <thead>\n",
       "    <tr style=\"text-align: right;\">\n",
       "      <th></th>\n",
       "      <th>symbol</th>\n",
       "      <th>time</th>\n",
       "      <th>content</th>\n",
       "      <th>log_r</th>\n",
       "    </tr>\n",
       "  </thead>\n",
       "  <tbody>\n",
       "    <tr>\n",
       "      <th>0</th>\n",
       "      <td>600031.SH</td>\n",
       "      <td>2018-10-10 09:00:00</td>\n",
       "      <td>现在是2018-10-10 09:00:00+08:00\\n时间：2018-10-09 17...</td>\n",
       "      <td>-0.028921</td>\n",
       "    </tr>\n",
       "    <tr>\n",
       "      <th>1</th>\n",
       "      <td>600031.SH</td>\n",
       "      <td>2018-10-24 09:00:00</td>\n",
       "      <td>现在是2018-10-24 09:00:00+08:00\\n时间：2018-10-09 17...</td>\n",
       "      <td>-0.023473</td>\n",
       "    </tr>\n",
       "    <tr>\n",
       "      <th>2</th>\n",
       "      <td>600031.SH</td>\n",
       "      <td>2018-12-07 09:00:00</td>\n",
       "      <td>现在是2018-12-07 09:00:00+08:00\\n时间：2018-12-06 18...</td>\n",
       "      <td>-0.003693</td>\n",
       "    </tr>\n",
       "    <tr>\n",
       "      <th>3</th>\n",
       "      <td>600031.SH</td>\n",
       "      <td>2018-12-24 09:00:00</td>\n",
       "      <td>现在是2018-12-24 09:00:00+08:00\\n时间：2018-12-06 18...</td>\n",
       "      <td>-0.008250</td>\n",
       "    </tr>\n",
       "    <tr>\n",
       "      <th>4</th>\n",
       "      <td>600031.SH</td>\n",
       "      <td>2018-12-24 09:00:00</td>\n",
       "      <td>现在是2018-12-24 09:00:00+08:00\\n时间：2018-12-06 18...</td>\n",
       "      <td>-0.008250</td>\n",
       "    </tr>\n",
       "    <tr>\n",
       "      <th>...</th>\n",
       "      <td>...</td>\n",
       "      <td>...</td>\n",
       "      <td>...</td>\n",
       "      <td>...</td>\n",
       "    </tr>\n",
       "    <tr>\n",
       "      <th>6323</th>\n",
       "      <td>601668.SH</td>\n",
       "      <td>2023-03-31 09:00:00</td>\n",
       "      <td>现在是2023-03-31 09:00:00+08:00\\n时间：2023-03-12 15...</td>\n",
       "      <td>0.015558</td>\n",
       "    </tr>\n",
       "    <tr>\n",
       "      <th>6324</th>\n",
       "      <td>601668.SH</td>\n",
       "      <td>2023-03-31 09:00:00</td>\n",
       "      <td>现在是2023-03-31 09:00:00+08:00\\n时间：2023-03-12 15...</td>\n",
       "      <td>0.015558</td>\n",
       "    </tr>\n",
       "    <tr>\n",
       "      <th>6325</th>\n",
       "      <td>601668.SH</td>\n",
       "      <td>2023-03-31 09:00:00</td>\n",
       "      <td>现在是2023-03-31 09:00:00+08:00\\n时间：2023-03-12 15...</td>\n",
       "      <td>0.015558</td>\n",
       "    </tr>\n",
       "    <tr>\n",
       "      <th>6326</th>\n",
       "      <td>601668.SH</td>\n",
       "      <td>2023-03-31 09:00:00</td>\n",
       "      <td>现在是2023-03-31 09:00:00+08:00\\n时间：2023-03-12 15...</td>\n",
       "      <td>0.015558</td>\n",
       "    </tr>\n",
       "    <tr>\n",
       "      <th>6327</th>\n",
       "      <td>601668.SH</td>\n",
       "      <td>2023-04-11 09:00:00</td>\n",
       "      <td>现在是2023-04-11 09:00:00+08:00\\n时间：2023-03-12 15...</td>\n",
       "      <td>0.008150</td>\n",
       "    </tr>\n",
       "  </tbody>\n",
       "</table>\n",
       "<p>5087 rows × 4 columns</p>\n",
       "</div>"
      ],
      "text/plain": [
       "         symbol                time  \\\n",
       "0     600031.SH 2018-10-10 09:00:00   \n",
       "1     600031.SH 2018-10-24 09:00:00   \n",
       "2     600031.SH 2018-12-07 09:00:00   \n",
       "3     600031.SH 2018-12-24 09:00:00   \n",
       "4     600031.SH 2018-12-24 09:00:00   \n",
       "...         ...                 ...   \n",
       "6323  601668.SH 2023-03-31 09:00:00   \n",
       "6324  601668.SH 2023-03-31 09:00:00   \n",
       "6325  601668.SH 2023-03-31 09:00:00   \n",
       "6326  601668.SH 2023-03-31 09:00:00   \n",
       "6327  601668.SH 2023-04-11 09:00:00   \n",
       "\n",
       "                                                content     log_r  \n",
       "0     现在是2018-10-10 09:00:00+08:00\\n时间：2018-10-09 17... -0.028921  \n",
       "1     现在是2018-10-24 09:00:00+08:00\\n时间：2018-10-09 17... -0.023473  \n",
       "2     现在是2018-12-07 09:00:00+08:00\\n时间：2018-12-06 18... -0.003693  \n",
       "3     现在是2018-12-24 09:00:00+08:00\\n时间：2018-12-06 18... -0.008250  \n",
       "4     现在是2018-12-24 09:00:00+08:00\\n时间：2018-12-06 18... -0.008250  \n",
       "...                                                 ...       ...  \n",
       "6323  现在是2023-03-31 09:00:00+08:00\\n时间：2023-03-12 15...  0.015558  \n",
       "6324  现在是2023-03-31 09:00:00+08:00\\n时间：2023-03-12 15...  0.015558  \n",
       "6325  现在是2023-03-31 09:00:00+08:00\\n时间：2023-03-12 15...  0.015558  \n",
       "6326  现在是2023-03-31 09:00:00+08:00\\n时间：2023-03-12 15...  0.015558  \n",
       "6327  现在是2023-04-11 09:00:00+08:00\\n时间：2023-03-12 15...  0.008150  \n",
       "\n",
       "[5087 rows x 4 columns]"
      ]
     },
     "execution_count": 10,
     "metadata": {},
     "output_type": "execute_result"
    }
   ],
   "source": [
    "import pandas as pd\n",
    "\n",
    "data = pd.read_parquet('announcement/processed_LLM_data_train_1_10_30_32k.parquet')\n",
    "data"
   ]
  },
  {
   "cell_type": "code",
   "execution_count": 11,
   "metadata": {},
   "outputs": [
    {
     "name": "stdout",
     "output_type": "stream",
     "text": [
      "-0.1483098449219742\n",
      "0.19195387493001637\n"
     ]
    }
   ],
   "source": [
    "print(data['log_r'].min())\n",
    "print(data['log_r'].max())"
   ]
  },
  {
   "cell_type": "code",
   "execution_count": 12,
   "metadata": {},
   "outputs": [
    {
     "data": {
      "image/png": "[encoded data removed]",
      "text/plain": [
       "<Figure size 640x480 with 1 Axes>"
      ]
     },
     "metadata": {},
     "output_type": "display_data"
    },
    {
     "name": "stdout",
     "output_type": "stream",
     "text": [
      "sigma: 0.028, mean: 0.003, variance: 0.001\n"
     ]
    }
   ],
   "source": [
    "import matplotlib.pyplot as plt\n",
    "\n",
    "plt.hist(data['log_r'], bins=50, alpha=0.75)\n",
    "plt.title('Distribution')\n",
    "plt.xlabel('log_r')\n",
    "plt.ylabel('Frequency')\n",
    "plt.show()\n",
    "\n",
    "sigma = round(data['log_r'].std(), 3)\n",
    "mean = round(data['log_r'].mean(), 3)\n",
    "variance = round(data['log_r'].var(), 3)\n",
    "\n",
    "print(f'sigma: {sigma}, mean: {mean}, variance: {variance}')"
   ]
  },
  {
   "cell_type": "code",
   "execution_count": 13,
   "metadata": {},
   "outputs": [
    {
     "name": "stdout",
     "output_type": "stream",
     "text": [
      "      log_r  label\n",
      "0 -0.028921      0\n",
      "1 -0.023473      0\n",
      "2 -0.003693      1\n",
      "3 -0.008250      1\n",
      "4 -0.008250      1\n"
     ]
    }
   ],
   "source": [
    "data['label'] = pd.qcut(data['log_r'], 5, labels=False)\n",
    "print(data[['log_r', 'label']].head())"
   ]
  },
  {
   "cell_type": "code",
   "execution_count": 14,
   "metadata": {},
   "outputs": [],
   "source": [
    "# print(data['content'][0])"
   ]
  },
  {
   "cell_type": "code",
   "execution_count": 15,
   "metadata": {},
   "outputs": [
    {
     "name": "stderr",
     "output_type": "stream",
     "text": [
      "Processing rows: 100%|██████████| 5087/5087 [00:00<00:00, 583775.87it/s]\n"
     ]
    }
   ],
   "source": [
    "import pandas as pd\n",
    "import json\n",
    "from tqdm import tqdm\n",
    "from transformers import AutoTokenizer\n",
    "from concurrent.futures import ThreadPoolExecutor\n",
    "\n",
    "\n",
    "def process_row(row):\n",
    "    try:\n",
    "        stock_mapping = {\n",
    "            \"600031.SH\": \"三一重工\",\n",
    "            \"600036.SH\": \"招商银行\",\n",
    "            \"600050.SH\": \"中国联通\",\n",
    "            \"600104.SH\": \"上汽集团\",\n",
    "            \"600346.SH\": \"恒力石化\",\n",
    "            \"600570.SH\": \"恒生电子\",\n",
    "            \"600887.SH\": \"伊利股份\",\n",
    "            \"601390.SH\": \"中国中铁\",\n",
    "            \"603160.SH\": \"汇项科技\",\n",
    "            \"601668.SH\": \"中国建筑\"\n",
    "        }\n",
    "        stock = stock_mapping[row['symbol']]\n",
    "        prompt = f\"请根据以下新闻文本，预测{stock}股票的对数收益率属于以下哪一类别 (极度负面/负面/中性/正面/极度正面)\"\n",
    "        label_mapping = {0: \"极度负面\", 1: \"负面\", 2: \"中性\", 3: \"正面\", 4: \"极度正面\"}\n",
    "        label = label_mapping[row['label']]\n",
    "\n",
    "        # def calculate_token_length(text):\n",
    "        #     model_name = \"/home/zhangmin/.cache/modelscope/hub/qwen/Qwen-7B-Chat\"\n",
    "        #     tokenizer = AutoTokenizer.from_pretrained(model_name,  trust_remote_code=True)\n",
    "        #     tokens = tokenizer.encode(text, truncation=True)\n",
    "        #     return len(tokens)\n",
    "\n",
    "        # token = calculate_token_length(row['content'])\n",
    "\n",
    "        return {\n",
    "            \"prompt\": prompt,\n",
    "            \"content\": row['content'],\n",
    "            \"label\": label,\n",
    "            # \"token\": token\n",
    "        }\n",
    "    except Exception as e:\n",
    "        print(f\"Error processing row: {e}\")\n",
    "        return None\n",
    "\n",
    "\n",
    "def generate_dataset(df, max_samples=32):\n",
    "    df_subset = df.head(max_samples)\n",
    "    results = []\n",
    "    with ThreadPoolExecutor(max_workers=50) as executor:\n",
    "        futures = [executor.submit(process_row, row) for _, row in df_subset.iterrows()]\n",
    "        for future in tqdm(futures, total=len(futures), desc=\"Processing rows\"):\n",
    "            result = future.result()\n",
    "            if result:\n",
    "                results.append(result)\n",
    "\n",
    "    return results\n",
    "\n",
    "\n",
    "# processed_data = [process_row(row) for _, row in tqdm(data.iterrows(), total=data.shape[0]) if process_row(row) is not None]\n",
    "processed_data = generate_dataset(data, max_samples=10000)\n",
    "output_file_path = 'ft_data_32k.json'\n",
    "with open(output_file_path, 'w', encoding='utf-8') as f:\n",
    "    json.dump(processed_data, f, ensure_ascii=False, indent=2)"
   ]
  },
  {
   "cell_type": "code",
   "execution_count": 16,
   "metadata": {},
   "outputs": [],
   "source": [
    "from sklearn.model_selection import train_test_split\n",
    "\n",
    "train_data, test_data = train_test_split(processed_data, test_size=0.1, random_state=42)\n",
    "\n",
    "train_file_path = 'ft_data_32k/train.json'\n",
    "test_file_path = 'ft_data_32k/test.json'\n",
    "\n",
    "with open(train_file_path, 'w', encoding='utf-8') as f:\n",
    "    json.dump(train_data, f, ensure_ascii=False, indent=2)\n",
    "\n",
    "with open(test_file_path, 'w', encoding='utf-8') as f:\n",
    "    json.dump(test_data, f, ensure_ascii=False, indent=2)"
   ]
  },
  {
   "cell_type": "code",
   "execution_count": 17,
   "metadata": {},
   "outputs": [],
   "source": [
    "# import json\n",
    "\n",
    "# with open('ft_data.json', 'r', encoding='utf-8') as f:\n",
    "#     data = json.load(f)\n",
    "\n",
    "# count = sum(1 for d in data if d['token'] >= 8192)\n",
    "# print(f\"The number of data with token length greater than 8192 is: {count}\")"
   ]
  },
  {
   "cell_type": "code",
   "execution_count": 18,
   "metadata": {},
   "outputs": [],
   "source": [
    "# import json\n",
    "# from sklearn.model_selection import train_test_split\n",
    "\n",
    "# with open('ft_data.json', 'r', encoding='utf-8') as f:\n",
    "#     data = json.load(f)\n",
    "# filtered_data = [d for d in data if d['token'] < 8192]\n",
    "# train_data, test_data = train_test_split(filtered_data, test_size=0.2, random_state=42)\n",
    "# with open('ft_data/train.json', 'w', encoding='utf-8') as f:\n",
    "#     json.dump(train_data, f, ensure_ascii=False, indent=4)\n",
    "# with open('ft_data/test.json', 'w', encoding='utf-8') as f:\n",
    "#     json.dump(test_data, f, ensure_ascii=False, indent=4)"
   ]
  }
 ],
 "metadata": {
  "language_info": {
   "name": "python"
  }
 },
 "nbformat": 4,
 "nbformat_minor": 2
}
