{
 "cells": [
  {
   "cell_type": "code",
   "execution_count": 2,
   "metadata": {},
   "outputs": [
    {
     "data": {
      "text/plain": [
       "342"
      ]
     },
     "execution_count": 2,
     "metadata": {},
     "output_type": "execute_result"
    }
   ],
   "source": [
    "from transformers import AutoTokenizer\n",
    "\n",
    "test_text = \"\"\"\n",
    "三一重工发布了2023年第三季度报告，以下是报告中的几个关键数据： 1. 归属于母公司股东的净利润为40.48亿元，同比增长14.93%。 2. 少数股东损益为1.01亿元，同比增长28.67%。 3. 六、其他综合收益的税后净额为1.55亿元，同比增长248.67%。 4. 归属于母公司所有者的其他综合收益的税后净额为15.06亿元，同比增长29.48%。 5. 合并现金流量表显示，经营活动产生的现金流为50.62亿元，同比增长45.22%。 6. 投资活动产生的现金流为55.28亿元，同比增长38.84%。 7. 合并资产负债表显示，货币资金为333.36亿元，同比增长17.74%。 8. 应收账款为373.93亿元，同比增长12.77%。 9. 存货为336.21亿元，同比增长17.74%。 10. 固定资产为252.27亿元，同比增长10.26%。 11. 在建工程为72.23亿元，同比增长28.29%。 12. 研发费用为35.63亿元，同比增长16.19%。 13\n",
    "\"\"\"\n",
    "\n",
    "def calculate_token_length(text):\n",
    "    model_name = \"/home/zhangmin/.cache/modelscope/hub/qwen/Qwen-7B-Chat\"\n",
    "    tokenizer = AutoTokenizer.from_pretrained(model_name,  trust_remote_code=True)\n",
    "    tokens = tokenizer.encode(text, truncation=True)\n",
    "    return len(tokens)\n",
    "\n",
    "calculate_token_length(test_text)"
   ]
  }
 ],
 "metadata": {
  "language_info": {
   "name": "python"
  }
 },
 "nbformat": 4,
 "nbformat_minor": 2
}
